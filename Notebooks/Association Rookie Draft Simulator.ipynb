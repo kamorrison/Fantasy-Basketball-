{
 "cells": [
  {
   "cell_type": "code",
   "execution_count": 1,
   "metadata": {
    "collapsed": true
   },
   "outputs": [],
   "source": [
    "## Updated 2019 and beyond lottery to reflect new league changes "
   ]
  },
  {
   "cell_type": "code",
   "execution_count": 2,
   "metadata": {
    "collapsed": true
   },
   "outputs": [],
   "source": [
    "import numpy as np\n",
    "import itertools"
   ]
  },
  {
   "cell_type": "markdown",
   "metadata": {},
   "source": [
    "2019 Season \n",
    "Rank\tTeam\tW-L-T\tPct\tDiv\tGB\tLast Week\tWaiver Bdgt\tWaiver\tMoves\n",
    "East\n",
    "(1)\tlogo Solid State\t88-78-5\t.529\t44-44-2\t10.5\t-\t$20\t14\t17\n",
    "(2)\tlogo Kranston Killers\t100-69-2\t.591\t55-35-0\t-\t-\t$100\t3\t-\n",
    "(3)\tlogo Brooklyn Phoeniks\t84-80-7\t.512\t52-44-3\t13.5\t-\t$0\t15\t24\n",
    "(6)\tlogo Gotham Great Danes\t90-78-3\t.535\t48-41-1\t9.5\t-\t$59\t12\t6\n",
    "(9)\tlogo NY KliNiKe\t84-83-4\t.503\t42-38-1\t15\t-\t$95\t1\t1\n",
    "(14)\tlogo Beantown Bombers\t68-98-5\t.412\t40-56-3\t30.5\t-\t$79\t8\t9\n",
    "(15)\tlogo Frankfurt Flyers\t75-94-2\t.444\t36-53-1\t25\t-\t$86\t5\t4\n",
    "(16)\tlogo Chitown Shooters\t83-87-1\t.488\t46-52-1\t17.5\t-\t$97\t16\t4\n",
    "West\n",
    "(4)\tlogo MidTown Moneymen\t66-97-8\t.409\t39-56-4\t38\t-\t$8\t2\t13\n",
    "(5)\tlogo BimTown Celtics\t90-77-4\t.538\t42-37-2\t16\t-\t$78\t7\t4\n",
    "(7)\tlogo Syracuse Sparrows\t92-77-2\t.544\t53-45-1\t15\t-\t$50\t10\t12\n",
    "(8)\tlogo Rucker Park Busters\t106-61-4\t.632\t53-37-0\t-\t-\t$24\t13\t12\n",
    "(10)\tlogo Chennai BlakeExpress\t98-69-4\t.585\t56-33-1\t8\t-\t$56\t11\t18\n",
    "(11)\tlogo Kings Landing Kings\t76-91-4\t.456\t48-48-3\t30\t-\t$100\t4\t1\n",
    "(12)\tlogo Donegal True Grit\t64-103-4\t.386\t33-55-2\t42\t-\t$41\t6\t5\n",
    "(13)\tlogo Amherst Speedsters\t73-95-3\t.436\t37-50-3\t33.5\t-\t$52\t9\t16"
   ]
  },
  {
   "cell_type": "markdown",
   "metadata": {},
   "source": [
    "# Start the Draft Lottery Sim"
   ]
  },
  {
   "cell_type": "markdown",
   "metadata": {},
   "source": [
    "8 teams qualify for the Association rookie draft. \n",
    "Odds for each team closely reflect NBA rookie lottery draft odds:\n",
    "https://en.wikipedia.org/wiki/NBA_draft_lottery"
   ]
  },
  {
   "cell_type": "code",
   "execution_count": 3,
   "metadata": {},
   "outputs": [
    {
     "name": "stdout",
     "output_type": "stream",
     "text": [
      "Percentage slightly less than 1: 1.0\n",
      "Lotto Ball Distribution to Team 1 to Team 8: [ 11.  11.  11.  10.   9.   8.   4.   5.]\n",
      "Total lotto balls: 69.0\n"
     ]
    }
   ],
   "source": [
    "\n",
    "\n",
    "def lottoballs():\n",
    "    seq = range(1, 9)\n",
    "    a = itertools.combinations(seq, 4)\n",
    "    b = list(itertools.combinations(seq, 4))\n",
    "    total = .14 + .14 + .14 + .125 + .105 + .090 + .060 + .060\n",
    "    remain = (1.0 - total) / 8\n",
    "    first_per = .14 + remain\n",
    "    second_per = .14 + remain\n",
    "    third_per = .14 + remain\n",
    "    fourth_per = .125 + remain\n",
    "    fifth_per = .105 + remain\n",
    "    sixth_per = .090 + remain\n",
    "    seventh_per = .060 + remain\n",
    "    eigth_per = .060 + remain\n",
    "    print (\"Percentage slightly less than 1: {}\".format(first_per + second_per + third_per + fourth_per + fifth_per + sixth_per + seventh_per + eigth_per))\n",
    "    lotto_balls = np.array([first_per, second_per, third_per, fourth_per, fifth_per,\n",
    "                            sixth_per, seventh_per, eigth_per]) * len(b)\n",
    "    # Need whole integer Odds \n",
    "    num_lotto_balls = np.round(lotto_balls)\n",
    "    # One ball missing the next largest is the seventh seed at 3.48\n",
    "    num_lotto_balls[6] = 4\n",
    "    print (\"Lotto Ball Distribution to Team 1 to Team 8: {}\".format(num_lotto_balls))\n",
    "\n",
    "    print (\"Total lotto balls: {}\".format(sum(num_lotto_balls)))\n",
    "    b = np.asarray(b)\n",
    "    # shuffle those ping pong balls \n",
    "    np.random.shuffle(b)\n",
    "\n",
    "    #print (\"All the lottery ball combinations: {}\".format(b))\n",
    "    return b, num_lotto_balls\n",
    "from random import randint\n",
    "def combo(pick='firstpick'):\n",
    "    temp = np.random.choice(8, 4, replace=False)\n",
    "    first_ball = temp[0]+1\n",
    "    second_ball = temp[1]+1\n",
    "    third_ball = temp[2]+1\n",
    "    fourth_ball = temp[3]+1\n",
    "    #combo = first_ball + second_ball + third_ball + fourth_ball\n",
    "    combo = sum([first_ball, second_ball, third_ball, fourth_ball],[])\n",
    "\n",
    "    \"The first ball is ... {}\".format(first_ball)\n",
    "    \"The second ball is ... {}\".format(second_ball)\n",
    "    \"The third ball is ... {}\".format(third_ball)\n",
    "    \"The fourth ball is ... {}\".format(fourth_ball)\n",
    "    combo = [first_ball, second_ball, third_ball, fourth_ball]\n",
    "    print(\"The {} combination is {}\".format(pick, combo))\n",
    "    return (combo)\n",
    "    \n",
    "def generictoteam(team, year='2020'):\n",
    "    if team == 'A':\n",
    "        return \"Chitown Shooters\"\n",
    "    elif team =='B':\n",
    "        return 'Frankfurt Flyers'\n",
    "    elif team =='C':\n",
    "        return 'Beantown Bombers'\n",
    "    elif team == 'D':\n",
    "        return 'Amherst Speedsters'\n",
    "    elif team == 'E':\n",
    "        return 'Donegal True Grit'\n",
    "    elif team == 'F':\n",
    "        return 'Kings Landing Kings'\n",
    "    elif team == 'G':\n",
    "        return 'Chennai BlakeExpress'\n",
    "    elif team == 'H':\n",
    "        return 'NY KliNiKe'\n",
    "    else:\n",
    "        \"Error Ocurred\"\n",
    "first_team = np.array([])\n",
    "second_team = np.array([])\n",
    "third_team = np.array([])\n",
    "fourth_team = np.array([])\n",
    "fifth_team = np.array([])\n",
    "sixth_team = np.array([])\n",
    "seventh_team = np.array([])\n",
    "eigth_team = np.array([])\n",
    "def picktoteam(combo=[], first=first_team, second=second_team, third = third_team, fourth=fourth_team,\n",
    "              fifth=fifth_team, sixth=sixth_team, seventh=seventh_team,eigth=eigth_team, num_pick=0, year='2018'):\n",
    "    print(combo)\n",
    "    combo = sorted(combo, key=int)\n",
    "    print(combo)\n",
    "    if combo in first_team.tolist():\n",
    "        team = 'A'\n",
    "        print(\"The {} pick of the {} Association Draft goes to: {}\".format(num_pick, year, team))\n",
    "    elif combo in second_team.tolist():\n",
    "        team = 'B'\n",
    "        print(\"The {} pick of the {} Association Draft goes to: {}\".format(num_pick, year, team))\n",
    "    elif combo in third_team.tolist():\n",
    "        team = 'C'\n",
    "        print(\"The {} pick of the {} Association Draft goes to: {}\".format(num_pick, year, team))\n",
    "    elif combo in fourth_team.tolist():\n",
    "        team = 'D'\n",
    "        print(\"The {} pick of the {} Association Draft goes to: {}\".format(num_pick, year, team))\n",
    "    elif combo in fifth_team.tolist():\n",
    "        team = 'E'\n",
    "        print(\"The {} pick of the {} Association Draft goes to: {}\".format(num_pick, year, team))\n",
    "    elif combo in sixth_team.tolist():\n",
    "        team = 'F'\n",
    "        print(\"The {} pick of the {} Association Draft goes to: {}\".format(num_pick, year, team))\n",
    "    elif combo in seventh_team.tolist():\n",
    "        team = 'G'\n",
    "        print(\"The {}st pick of the {} Association Draft goes to: {}\".format(num_pick, year, team))\n",
    "    elif combo in eigth_team.tolist():\n",
    "        team = 'H'\n",
    "        print(\"The {} pick of the {} Association Draft goes to: {}\".format(num_pick, year, team))\n",
    "    else:\n",
    "        print(\"Something terrible happened\")\n",
    "    return (team)\n",
    "b, num_lotto_balls = lottoballs()\n"
   ]
  },
  {
   "cell_type": "code",
   "execution_count": 4,
   "metadata": {
    "collapsed": true
   },
   "outputs": [],
   "source": [
    "num_lotto_balls = num_lotto_balls.astype(int)\n",
    "for team in range(num_lotto_balls.size):\n",
    "    #print (len(b))\n",
    "    if team == 0:\n",
    "        first = b[num_lotto_balls[team],:]\n",
    "        first_team = b[-num_lotto_balls[team]:, :]\n",
    "        b = b[:(len(b)-num_lotto_balls[team]), :]\n",
    "    elif team == 1:\n",
    "        second = b[num_lotto_balls[team],:]\n",
    "        second_team = b[-num_lotto_balls[team]:, :]\n",
    "        b = b[:(len(b)-num_lotto_balls[team]), :]   \n",
    "    elif team ==2:\n",
    "        third = b[num_lotto_balls[team],:]\n",
    "        third_team = b[-num_lotto_balls[team]:, :]\n",
    "        b = b[:(len(b)-num_lotto_balls[team]), :]\n",
    "    elif team ==3:\n",
    "        fourth = b[num_lotto_balls[team],:]\n",
    "        fourth_team = b[-num_lotto_balls[team]:, :]\n",
    "        b = b[:(len(b)-num_lotto_balls[team]), :]\n",
    "    elif team ==4:\n",
    "        fifth = b[num_lotto_balls[team],:]\n",
    "        fifth_team = b[-num_lotto_balls[team]:, :]\n",
    "        b = b[:(len(b)-num_lotto_balls[team]), :]\n",
    "    elif team ==5:\n",
    "        sixth = b[num_lotto_balls[team],:]\n",
    "        sixth_team = b[-num_lotto_balls[team]:, :]\n",
    "        b = b[:(len(b)-num_lotto_balls[team]), :]\n",
    "    elif team ==6:\n",
    "        seventh = b[num_lotto_balls[team],:]\n",
    "        seventh_team = b[-num_lotto_balls[team]:, :]\n",
    "        b = b[:(len(b)-num_lotto_balls[team]), :]\n",
    "    else:\n",
    "        #print(\"AT else statement b is {}\".format(b))\n",
    "        eigth_team = b\n",
    "#print (eigth_team)"
   ]
  },
  {
   "cell_type": "code",
   "execution_count": 5,
   "metadata": {},
   "outputs": [
    {
     "name": "stdout",
     "output_type": "stream",
     "text": [
      "The firstpick combination is [6, 3, 8, 7]\n",
      "[6, 3, 8, 7]\n",
      "[3, 6, 7, 8]\n",
      "The 1 pick of the 2018 Association Draft goes to: E\n",
      "The secondpick combination is [8, 7, 2, 3]\n",
      "[8, 7, 2, 3]\n",
      "[2, 3, 7, 8]\n",
      "The 2 pick of the 2018 Association Draft goes to: A\n",
      "The thirdpick combination is [6, 8, 7, 5]\n",
      "[6, 8, 7, 5]\n",
      "[5, 6, 7, 8]\n",
      "The 3 pick of the 2018 Association Draft goes to: C\n"
     ]
    }
   ],
   "source": [
    "\n",
    "        \n",
    "selection_one = combo(pick ='firstpick')\n",
    "first = picktoteam(combo=selection_one, num_pick='1')\n",
    "selection_two = combo(pick ='secondpick')\n",
    "second = picktoteam(combo=selection_two, num_pick='2')\n",
    "while (first==second):\n",
    "    print(\"Redraw team already awared a top 3 pick\")\n",
    "    selection_two = combo(pick ='secondpick')\n",
    "    second = picktoteam(combo=selection_two, num_pick='2')\n",
    "selection_third = combo(pick ='thirdpick')\n",
    "third = picktoteam(combo=selection_third, num_pick='3')\n",
    "while(first==third or second==third):\n",
    "    print(\"Redraw team already awared a top 3 pick\")\n",
    "    selection_third = combo(pick ='thirdpick')\n",
    "    third = picktoteam(combo=selection_third, num_pick='3')\n",
    "     "
   ]
  },
  {
   "cell_type": "markdown",
   "metadata": {},
   "source": [
    "# Good Luck Everyone"
   ]
  },
  {
   "cell_type": "code",
   "execution_count": 6,
   "metadata": {},
   "outputs": [
    {
     "name": "stdout",
     "output_type": "stream",
     "text": [
      "*********\u001b[1mGood Luck Everyone*********\n"
     ]
    }
   ],
   "source": [
    "print('*********\\033[1mGood Luck Everyone*********')\n",
    "def outsidetop3order(first=first, second=second, third=third):\n",
    "    temp = ['A', 'B', 'C', 'D', 'E', 'F', 'G', 'H']\n",
    "    temp.remove(first)\n",
    "    temp.remove(second)\n",
    "    temp.remove(third)\n",
    "    fourth = temp[0]\n",
    "    fifth = temp[1]\n",
    "    sixth = temp[2]\n",
    "    seventh = temp[3]\n",
    "    eigth = temp[4]\n",
    "    return fourth, fifth, sixth, seventh, eigth\n"
   ]
  },
  {
   "cell_type": "code",
   "execution_count": 7,
   "metadata": {},
   "outputs": [
    {
     "name": "stdout",
     "output_type": "stream",
     "text": [
      "The 8th pick goes to: \u001b[1mKranston Killers\n"
     ]
    }
   ],
   "source": [
    "print(\"The 8th pick goes to: \\033[1m{}\".format(generictoteam(outsidetop3order()[4])))\n"
   ]
  },
  {
   "cell_type": "code",
   "execution_count": 8,
   "metadata": {},
   "outputs": [
    {
     "name": "stdout",
     "output_type": "stream",
     "text": [
      "Pick number 7 will be made by \u001b[1mDonegal True Grit\n"
     ]
    }
   ],
   "source": [
    "print(\"Pick number 7 will be made by \\033[1m{}\".format(generictoteam(outsidetop3order()[3])))"
   ]
  },
  {
   "cell_type": "code",
   "execution_count": 9,
   "metadata": {},
   "outputs": [
    {
     "name": "stdout",
     "output_type": "stream",
     "text": [
      "The 6th pick belongs to \u001b[1mChiraq Shooters\n"
     ]
    }
   ],
   "source": [
    "print(\"The 6th pick belongs to \\033[1m{}\".format(generictoteam(outsidetop3order()[2])))"
   ]
  },
  {
   "cell_type": "code",
   "execution_count": 10,
   "metadata": {},
   "outputs": [
    {
     "name": "stdout",
     "output_type": "stream",
     "text": [
      "Picking 5th will be \u001b[1mWestbury Hvy Weights\n"
     ]
    }
   ],
   "source": [
    "print(\"Picking 5th will be \\033[1m{}\".format(generictoteam(outsidetop3order()[1])))"
   ]
  },
  {
   "cell_type": "code",
   "execution_count": 11,
   "metadata": {},
   "outputs": [
    {
     "name": "stdout",
     "output_type": "stream",
     "text": [
      "And the 4th pick of the 2018 Association draft goes to \u001b[1mTim Hortonway Jr\n"
     ]
    }
   ],
   "source": [
    "print(\"And the 4th pick of the 2020 Association draft goes to \\033[1m{}\".format(generictoteam(outsidetop3order()[0])))"
   ]
  },
  {
   "cell_type": "code",
   "execution_count": 12,
   "metadata": {},
   "outputs": [
    {
     "name": "stdout",
     "output_type": "stream",
     "text": [
      "The third pick in this year's draft goes to the \u001b[1mBeantown Bombers\n",
      "The second pick will be made by \u001b[1mNY KliNike \n",
      "*********\u001b[1mBig Round of Applause from supprters from BimTown Celtics*********\n",
      "And that means the number 1 pick of the 2018 Association draft goes to \u001b[1mBimTown Celtics \n",
      "*********\u001b[1mFinal 3 teams handshake and congratulate each other*********\n"
     ]
    }
   ],
   "source": [
    "print(\"The third pick in this year's draft goes to the \\033[1m{}\".format(generictoteam(team=third)))\n",
    "print(\"The second pick will be made by \\033[1m{} \".format(generictoteam(team=second)))\n",
    "print(\"*********\\033[1mBig Round of Applause from supprters from {}*********\".format(generictoteam(team=first)))\n",
    "print(\"And that means the number 1 pick of the 2020 Association draft goes to \\033[1m{} \".format(generictoteam(team=first)))\n",
    "print(\"*********\\033[1mFinal 3 teams handshake and congratulate each other*********\")\n"
   ]
  }
 ],
 "metadata": {
  "kernelspec": {
   "display_name": "Python 3",
   "language": "python",
   "name": "python3"
  },
  "language_info": {
   "codemirror_mode": {
    "name": "ipython",
    "version": 3
   },
   "file_extension": ".py",
   "mimetype": "text/x-python",
   "name": "python",
   "nbconvert_exporter": "python",
   "pygments_lexer": "ipython3",
   "version": "3.7.4"
  }
 },
 "nbformat": 4,
 "nbformat_minor": 2
}
