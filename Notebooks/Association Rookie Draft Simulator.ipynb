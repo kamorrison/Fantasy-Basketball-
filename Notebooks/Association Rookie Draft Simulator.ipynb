{
 "cells": [
  {
   "cell_type": "code",
   "execution_count": 12,
   "metadata": {
    "collapsed": true
   },
   "outputs": [],
   "source": [
    "import numpy as np\n",
    "import itertools"
   ]
  },
  {
   "cell_type": "markdown",
   "metadata": {},
   "source": [
    "# Start the Draft Lottery Sim"
   ]
  },
  {
   "cell_type": "markdown",
   "metadata": {},
   "source": [
    "8 teams qualify for the Association rookie draft. \n",
    "Odds for each team closely reflect NBA rookie lottery draft odds:\n",
    "https://en.wikipedia.org/wiki/NBA_draft_lottery"
   ]
  },
  {
   "cell_type": "code",
   "execution_count": 13,
   "metadata": {},
   "outputs": [
    {
     "name": "stdout",
     "output_type": "stream",
     "text": [
      "Percentage slightly less than 1: 0.9999999999999998\n",
      "Lotto Ball Distribution to Team 1 to Team 8: [ 18.  14.  11.   9.   7.   5.   4.   2.]\n",
      "Total lotto balls: 70.0\n"
     ]
    }
   ],
   "source": [
    "def lottoballs():\n",
    "    seq = range(1, 9)\n",
    "    a = itertools.combinations(seq, 4)\n",
    "    b = list(itertools.combinations(seq, 4))\n",
    "    total = .25 + .199 + .156 + .119 + .088 + .063 + .043 + .028\n",
    "    remain = (1.0 - total) / 8\n",
    "    first_per = .25 + remain\n",
    "    second_per = .199 + remain\n",
    "    third_per = .156 + remain\n",
    "    fourth_per = .119 + remain\n",
    "    fifth_per = .088 + remain\n",
    "    sixth_per = .063 + remain\n",
    "    seventh_per = .043 + remain\n",
    "    eigth_per = .028 + remain\n",
    "    print (\"Percentage slightly less than 1: {}\".format(first_per + second_per + third_per + fourth_per + fifth_per + sixth_per + seventh_per + eigth_per))\n",
    "    lotto_balls = np.array([first_per, second_per, third_per, fourth_per, fifth_per,\n",
    "                            sixth_per, seventh_per, eigth_per]) * len(b)\n",
    "    # Need whole integer Odds \n",
    "    num_lotto_balls = np.round(lotto_balls)\n",
    "    # One ball missing the next largest is the seventh seed at 3.48\n",
    "    num_lotto_balls[6] = 4\n",
    "    print (\"Lotto Ball Distribution to Team 1 to Team 8: {}\".format(num_lotto_balls))\n",
    "\n",
    "    print (\"Total lotto balls: {}\".format(sum(num_lotto_balls)))\n",
    "    b = np.asarray(b)\n",
    "    # shuffle those ping pong balls \n",
    "    np.random.shuffle(b)\n",
    "\n",
    "    #print (\"All the lottery ball combinations: {}\".format(b))\n",
    "    return b, num_lotto_balls\n",
    "from random import randint\n",
    "def combo(pick='firstpick'):\n",
    "    temp = np.random.choice(8, 4, replace=False)\n",
    "    first_ball = temp[0]+1\n",
    "    second_ball = temp[1]+1\n",
    "    third_ball = temp[2]+1\n",
    "    fourth_ball = temp[3]+1\n",
    "    #combo = first_ball + second_ball + third_ball + fourth_ball\n",
    "    combo = sum([first_ball, second_ball, third_ball, fourth_ball],[])\n",
    "\n",
    "    \"The first ball is ... {}\".format(first_ball)\n",
    "    \"The second ball is ... {}\".format(second_ball)\n",
    "    \"The third ball is ... {}\".format(third_ball)\n",
    "    \"The fourth ball is ... {}\".format(fourth_ball)\n",
    "    combo = [first_ball, second_ball, third_ball, fourth_ball]\n",
    "    print(\"The {} combination is {}\".format(pick, combo))\n",
    "    return (combo)\n",
    "    \n",
    "def generictoteam(team, year='2018'):\n",
    "    if team == 'A':\n",
    "        return \"Westbury Hvy Weights\"\n",
    "    elif team =='B':\n",
    "        return 'Chiraq Shooters'\n",
    "    elif team =='C':\n",
    "        return 'Donegal True Grit'\n",
    "    elif team == 'D':\n",
    "        return 'Kings Landing Kings'\n",
    "    elif team == 'E':\n",
    "        return 'Chennai BlakeExpress'\n",
    "    elif team == 'F':\n",
    "        return 'BimTown Celtics'\n",
    "    elif team == 'G':\n",
    "        return 'Kranston Killers'\n",
    "    elif team == 'H':\n",
    "        return 'Milos Teddyosic'\n",
    "    else:\n",
    "        \"Error Ocurred\"\n",
    "first_team = np.array([])\n",
    "second_team = np.array([])\n",
    "third_team = np.array([])\n",
    "fourth_team = np.array([])\n",
    "fifth_team = np.array([])\n",
    "sixth_team = np.array([])\n",
    "seventh_team = np.array([])\n",
    "eigth_team = np.array([])\n",
    "def picktoteam(combo=[], first=first_team, second=second_team, third = third_team, fourth=fourth_team,\n",
    "              fifth=fifth_team, sixth=sixth_team, seventh=seventh_team,eigth=eigth_team, num_pick=0, year='2018'):\n",
    "    print(combo)\n",
    "    combo = sorted(combo, key=int)\n",
    "    print(combo)\n",
    "    if combo in first_team.tolist():\n",
    "        team = 'A'\n",
    "        print(\"The {} pick of the {} Association Draft goes to: {}\".format(num_pick, year, team))\n",
    "    elif combo in second_team.tolist():\n",
    "        team = 'B'\n",
    "        print(\"The {} pick of the {} Association Draft goes to: {}\".format(num_pick, year, team))\n",
    "    elif combo in third_team.tolist():\n",
    "        team = 'C'\n",
    "        print(\"The {} pick of the {} Association Draft goes to: {}\".format(num_pick, year, team))\n",
    "    elif combo in fourth_team.tolist():\n",
    "        team = 'D'\n",
    "        print(\"The {} pick of the {} Association Draft goes to: {}\".format(num_pick, year, team))\n",
    "    elif combo in fifth_team.tolist():\n",
    "        team = 'E'\n",
    "        print(\"The {} pick of the {} Association Draft goes to: {}\".format(num_pick, year, team))\n",
    "    elif combo in sixth_team.tolist():\n",
    "        team = 'F'\n",
    "        print(\"The {} pick of the {} Association Draft goes to: {}\".format(num_pick, year, team))\n",
    "    elif combo in seventh_team.tolist():\n",
    "        team = 'G'\n",
    "        print(\"The {}st pick of the {} Association Draft goes to: {}\".format(num_pick, year, team))\n",
    "    elif combo in eigth_team.tolist():\n",
    "        team = 'H'\n",
    "        print(\"The {} pick of the {} Association Draft goes to: {}\".format(num_pick, year, team))\n",
    "    else:\n",
    "        print(\"Something terrible happened\")\n",
    "    return (team)\n",
    "b, num_lotto_balls = lottoballs()\n"
   ]
  },
  {
   "cell_type": "code",
   "execution_count": 14,
   "metadata": {
    "collapsed": true
   },
   "outputs": [],
   "source": [
    "num_lotto_balls = num_lotto_balls.astype(int)\n",
    "for team in range(num_lotto_balls.size):\n",
    "    #print (len(b))\n",
    "    if team == 0:\n",
    "        first = b[num_lotto_balls[team],:]\n",
    "        first_team = b[-num_lotto_balls[team]:, :]\n",
    "        b = b[:(len(b)-num_lotto_balls[team]), :]\n",
    "    elif team == 1:\n",
    "        second = b[num_lotto_balls[team],:]\n",
    "        second_team = b[-num_lotto_balls[team]:, :]\n",
    "        b = b[:(len(b)-num_lotto_balls[team]), :]   \n",
    "    elif team ==2:\n",
    "        third = b[num_lotto_balls[team],:]\n",
    "        third_team = b[-num_lotto_balls[team]:, :]\n",
    "        b = b[:(len(b)-num_lotto_balls[team]), :]\n",
    "    elif team ==3:\n",
    "        fourth = b[num_lotto_balls[team],:]\n",
    "        fourth_team = b[-num_lotto_balls[team]:, :]\n",
    "        b = b[:(len(b)-num_lotto_balls[team]), :]\n",
    "    elif team ==4:\n",
    "        fifth = b[num_lotto_balls[team],:]\n",
    "        fifth_team = b[-num_lotto_balls[team]:, :]\n",
    "        b = b[:(len(b)-num_lotto_balls[team]), :]\n",
    "    elif team ==5:\n",
    "        sixth = b[num_lotto_balls[team],:]\n",
    "        sixth_team = b[-num_lotto_balls[team]:, :]\n",
    "        b = b[:(len(b)-num_lotto_balls[team]), :]\n",
    "    elif team ==6:\n",
    "        seventh = b[num_lotto_balls[team],:]\n",
    "        seventh_team = b[-num_lotto_balls[team]:, :]\n",
    "        b = b[:(len(b)-num_lotto_balls[team]), :]\n",
    "    else:\n",
    "        #print(\"AT else statement b is {}\".format(b))\n",
    "        eigth_team = b\n",
    "#print (eigth_team)"
   ]
  },
  {
   "cell_type": "code",
   "execution_count": 15,
   "metadata": {},
   "outputs": [
    {
     "name": "stdout",
     "output_type": "stream",
     "text": [
      "The firstpick combination is [7, 8, 5, 1]\n",
      "[7, 8, 5, 1]\n",
      "[1, 5, 7, 8]\n",
      "The 1 pick of the 2018 Association Draft goes to: A\n",
      "The secondpick combination is [6, 8, 4, 2]\n",
      "[6, 8, 4, 2]\n",
      "[2, 4, 6, 8]\n",
      "The 2 pick of the 2018 Association Draft goes to: C\n",
      "The thirdpick combination is [8, 3, 7, 2]\n",
      "[8, 3, 7, 2]\n",
      "[2, 3, 7, 8]\n",
      "The 3 pick of the 2018 Association Draft goes to: B\n"
     ]
    }
   ],
   "source": [
    "\n",
    "        \n",
    "selection_one = combo(pick ='firstpick')\n",
    "first = picktoteam(combo=selection_one, num_pick='1')\n",
    "selection_two = combo(pick ='secondpick')\n",
    "second = picktoteam(combo=selection_two, num_pick='2')\n",
    "while (first==second):\n",
    "    print(\"Redraw team already awared a top 3 pick\")\n",
    "    selection_two = combo(pick ='secondpick')\n",
    "    second = picktoteam(combo=selection_two, num_pick='2')\n",
    "selection_third = combo(pick ='thirdpick')\n",
    "third = picktoteam(combo=selection_third, num_pick='3')\n",
    "while(first==third or second==third):\n",
    "    print(\"Redraw team already awared a top 3 pick\")\n",
    "    selection_third = combo(pick ='thirdpick')\n",
    "    third = picktoteam(combo=selection_third, num_pick='3')\n",
    "     "
   ]
  },
  {
   "cell_type": "markdown",
   "metadata": {},
   "source": [
    "# Good Luck Everyone"
   ]
  },
  {
   "cell_type": "code",
   "execution_count": 16,
   "metadata": {},
   "outputs": [
    {
     "name": "stdout",
     "output_type": "stream",
     "text": [
      "*********\u001b[1mGood Luck Everyone*********\n"
     ]
    }
   ],
   "source": [
    "print('*********\\033[1mGood Luck Everyone*********')\n",
    "def outsidetop3order(first=first, second=second, third=third):\n",
    "    temp = ['A', 'B', 'C', 'D', 'E', 'F', 'G', 'H']\n",
    "    temp.remove(first)\n",
    "    temp.remove(second)\n",
    "    temp.remove(third)\n",
    "    fourth = temp[0]\n",
    "    fifth = temp[1]\n",
    "    sixth = temp[2]\n",
    "    seventh = temp[3]\n",
    "    eigth = temp[4]\n",
    "    return fourth, fifth, sixth, seventh, eigth\n"
   ]
  },
  {
   "cell_type": "code",
   "execution_count": 17,
   "metadata": {},
   "outputs": [
    {
     "name": "stdout",
     "output_type": "stream",
     "text": [
      "The 8th pick goes to: \u001b[1mMilos Teddyosic\n"
     ]
    }
   ],
   "source": [
    "print(\"The 8th pick goes to: \\033[1m{}\".format(generictoteam(outsidetop3order()[4])))\n"
   ]
  },
  {
   "cell_type": "code",
   "execution_count": 18,
   "metadata": {},
   "outputs": [
    {
     "name": "stdout",
     "output_type": "stream",
     "text": [
      "Pick number 7 will be made by \u001b[1mKranston Killers\n"
     ]
    }
   ],
   "source": [
    "print(\"Pick number 7 will be made by \\033[1m{}\".format(generictoteam(outsidetop3order()[3])))"
   ]
  },
  {
   "cell_type": "code",
   "execution_count": 19,
   "metadata": {},
   "outputs": [
    {
     "name": "stdout",
     "output_type": "stream",
     "text": [
      "The 6th pick belongs to \u001b[1mBimTown Celtics\n"
     ]
    }
   ],
   "source": [
    "print(\"The 6th pick belongs to \\033[1m{}\".format(generictoteam(outsidetop3order()[2])))"
   ]
  },
  {
   "cell_type": "code",
   "execution_count": 20,
   "metadata": {},
   "outputs": [
    {
     "name": "stdout",
     "output_type": "stream",
     "text": [
      "Picking 5th will be \u001b[1mChennai BlakeExpress\n"
     ]
    }
   ],
   "source": [
    "print(\"Picking 5th will be \\033[1m{}\".format(generictoteam(outsidetop3order()[1])))"
   ]
  },
  {
   "cell_type": "code",
   "execution_count": 21,
   "metadata": {},
   "outputs": [
    {
     "name": "stdout",
     "output_type": "stream",
     "text": [
      "And the 4th pick of the 2018 Association draft goes to \u001b[1mKings Landing Kings\n"
     ]
    }
   ],
   "source": [
    "print(\"And the 4th pick of the 2018 Association draft goes to \\033[1m{}\".format(generictoteam(outsidetop3order()[0])))"
   ]
  },
  {
   "cell_type": "code",
   "execution_count": 11,
   "metadata": {},
   "outputs": [
    {
     "name": "stdout",
     "output_type": "stream",
     "text": [
      "The third pick in this year's draft goes to the \u001b[1mWestbury Hvy Weights\n",
      "The second pick will be made by \u001b[1mChennai BlakeExpress \n",
      "*********\u001b[1mBig Round of Applause from supprters from Chiraq Shooters*********\n",
      "And that means the number 1 pick of the 2018 Association draft goes to \u001b[1mChiraq Shooters \n",
      "*********\u001b[1mFinal 3 teams handshake and congratulate each other*********\n"
     ]
    }
   ],
   "source": [
    "print(\"The third pick in this year's draft goes to the \\033[1m{}\".format(generictoteam(team=third)))\n",
    "print(\"The second pick will be made by \\033[1m{} \".format(generictoteam(team=second)))\n",
    "print(\"*********\\033[1mBig Round of Applause from supprters from {}*********\".format(generictoteam(team=first)))\n",
    "print(\"And that means the number 1 pick of the 2018 Association draft goes to \\033[1m{} \".format(generictoteam(team=first)))\n",
    "print(\"*********\\033[1mFinal 3 teams handshake and congratulate each other*********\")\n"
   ]
  }
 ],
 "metadata": {
  "kernelspec": {
   "display_name": "Python 3",
   "language": "python",
   "name": "python3"
  },
  "language_info": {
   "codemirror_mode": {
    "name": "ipython",
    "version": 3
   },
   "file_extension": ".py",
   "mimetype": "text/x-python",
   "name": "python",
   "nbconvert_exporter": "python",
   "pygments_lexer": "ipython3",
   "version": "3.6.1"
  }
 },
 "nbformat": 4,
 "nbformat_minor": 2
}
